{
 "cells": [
  {
   "cell_type": "code",
   "execution_count": 2,
   "metadata": {},
   "outputs": [
    {
     "name": "stdout",
     "output_type": "stream",
     "text": [
      "0 :  4\n",
      "0 :  3\n",
      "1 :  4\n",
      "1 :  2\n",
      "2 :  4\n",
      "2 :  0\n",
      "3 :  4\n",
      "3 :  4\n",
      "4 :  0\n",
      "4 :  4\n"
     ]
    }
   ],
   "source": [
    "import numpy as np\n",
    "\n",
    "N = 5\n",
    "nArray=np.arange(5)\n",
    "for i in range(5):\n",
    "    # np.random.choice()\n",
    "    print(i, \": \", np.random.choice(np.delete(nArray,i)))\n",
    "    print(i, \": \", np.random.choice(nArray))\n",
    "    # data['neighbor'][i]=np.random.choice(np.delete(nArray,i))"
   ]
  },
  {
   "cell_type": "code",
   "execution_count": 8,
   "metadata": {},
   "outputs": [
    {
     "name": "stdout",
     "output_type": "stream",
     "text": [
      "0.010000000000000002\n",
      "[0.36915622 0.99554341 0.49147091 0.47668771 0.02647669]\n",
      "[False False False False False]\n"
     ]
    },
    {
     "data": {
      "text/plain": [
       "0"
      ]
     },
     "execution_count": 8,
     "metadata": {},
     "output_type": "execute_result"
    }
   ],
   "source": [
    "N = 5\n",
    "rnd=np.random.random(size=N)\n",
    "switchingRate = 0.1\n",
    "dt = 0.1\n",
    "tmp = switchingRate*dt\n",
    "print(tmp)\n",
    "switchArray=rnd<(tmp)\n",
    "print(rnd)\n",
    "print(switchArray)\n",
    "np.sum(switchArray)\n",
    "# nArray=np.arange(N)\n",
    "# for idx in np.where(switchArray)[0]:\n",
    "#     neighbor[idx]=np.random.choice(np.delete(nArray,np.int32([neighbor[idx],idx])))"
   ]
  }
 ],
 "metadata": {
  "kernelspec": {
   "display_name": "Python 3",
   "language": "python",
   "name": "python3"
  },
  "language_info": {
   "codemirror_mode": {
    "name": "ipython",
    "version": 3
   },
   "file_extension": ".py",
   "mimetype": "text/x-python",
   "name": "python",
   "nbconvert_exporter": "python",
   "pygments_lexer": "ipython3",
   "version": "3.8.10"
  },
  "orig_nbformat": 4,
  "vscode": {
   "interpreter": {
    "hash": "916dbcbb3f70747c44a77c7bcd40155683ae19c65e1c03b4aa3499c5328201f1"
   }
  }
 },
 "nbformat": 4,
 "nbformat_minor": 2
}
